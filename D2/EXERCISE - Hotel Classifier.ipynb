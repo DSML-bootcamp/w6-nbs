{
 "cells": [
  {
   "cell_type": "markdown",
   "metadata": {},
   "source": [
    "<h1><center>Canceled bookings at a hotel</center></h1>\n",
    "\n",
    "\n",
    "You have been assigned the task of building a model that will predict whether or not a customer of a hotel will cancel their booking. The data for this assingment is found in the csv file `hotel_clf`\n",
    "\n",
    "<br> \n",
    "<div>\n",
    "<img src=\"https://5.imimg.com/data5/PC/BL/MY-33192851/hotel-reservation-services-500x500.jpg\" width=\"400\"/>\n",
    "</div>\n",
    "<br> \n",
    "If the model predicts that a customer will cancel their booking, that customer will be sent a special deal to try to keep the customer from cancel the booking. If the prediction is correct (a True Positive), the expected gain is 1000 SEK. However, if the prediction is wrong (a False Positive), the expected loss is 500 SEK. \n",
    "\n",
    "Your goal is to build the most profitable model possible.\n",
    "\n",
    "<hr style=\"border:1px solid pink\"> </hr>"
   ]
  },
  {
   "cell_type": "markdown",
   "metadata": {},
   "source": [
    "## Q1 | Choose Metric\n",
    "\n",
    "Reason about which metric you think will be best to optimize your model for.\n",
    "\n",
    "- Recall?\n",
    "- Precision?\n",
    "- Accuracy?\n",
    "- F1-score?\n",
    "\n",
    "Make a decision about which metric you think will lead to the most profitable model"
   ]
  },
  {
   "cell_type": "code",
   "execution_count": null,
   "metadata": {},
   "outputs": [],
   "source": [
    "# Answer:"
   ]
  },
  {
   "cell_type": "code",
   "execution_count": null,
   "metadata": {},
   "outputs": [],
   "source": []
  },
  {
   "cell_type": "code",
   "execution_count": null,
   "metadata": {},
   "outputs": [],
   "source": []
  },
  {
   "cell_type": "markdown",
   "metadata": {},
   "source": [
    "## Q2 | Data prepatation\n",
    "\n",
    "- Prepare your data so that you end up with a clean and preprocessed train and test set\n",
    "    \n",
    "    \n",
    "- Instructions for train test split:    \n",
    "    - Test size = 0.2\n",
    "    - Random state = 42"
   ]
  },
  {
   "cell_type": "code",
   "execution_count": null,
   "metadata": {},
   "outputs": [],
   "source": []
  },
  {
   "cell_type": "code",
   "execution_count": null,
   "metadata": {},
   "outputs": [],
   "source": []
  },
  {
   "cell_type": "code",
   "execution_count": null,
   "metadata": {},
   "outputs": [],
   "source": []
  },
  {
   "cell_type": "markdown",
   "metadata": {},
   "source": [
    "## Q3 | Build a LogReg Model\n",
    "\n",
    "Guidelines:\n",
    "- Use a LogisticRegression model\n",
    "    - Random state = 42\n",
    "- Use the metric you decided on in the previous question\n",
    "\n",
    "- You are not allowed to change the model after looking at the performance on test data\n",
    "- Your models predictions on test data will be translated into SEK. I.e:\n",
    "    - 10 TP = 10 * 1 000 SEK = +10 000 \n",
    "    - 10 FP = 10 * -500 SEK = -5 000 SEK\n",
    "        - Expected Value from model = +5 000 SEK \n",
    "        \n",
    "        \n",
    "After you have trained your model, make predictions for your test data and calculate the profitable of the model"
   ]
  },
  {
   "cell_type": "code",
   "execution_count": null,
   "metadata": {},
   "outputs": [],
   "source": []
  },
  {
   "cell_type": "code",
   "execution_count": null,
   "metadata": {},
   "outputs": [],
   "source": []
  },
  {
   "cell_type": "code",
   "execution_count": null,
   "metadata": {},
   "outputs": [],
   "source": []
  },
  {
   "cell_type": "markdown",
   "metadata": {},
   "source": [
    "## Q4 | Build a RandomForestClassifier model\n",
    "\n",
    "- Use a RandomForestClassifier model:\n",
    "    - random_state = 42\n",
    "\n",
    "\n",
    "- After you have trained your model, make predictions for your test data and calculate the profitable of the model\n",
    "\n",
    "- Which model was more profitable, the LogReg or the RandomForestClassifier?"
   ]
  },
  {
   "cell_type": "code",
   "execution_count": null,
   "metadata": {},
   "outputs": [],
   "source": []
  },
  {
   "cell_type": "code",
   "execution_count": null,
   "metadata": {},
   "outputs": [],
   "source": []
  },
  {
   "cell_type": "code",
   "execution_count": null,
   "metadata": {},
   "outputs": [],
   "source": []
  },
  {
   "cell_type": "markdown",
   "metadata": {},
   "source": [
    "## Q5 | Did you choose the right metric? \n",
    "\n",
    "Calculate the profitablity for the RandomForestClassifier for all 4 different metrics. Then rank order the outcome. I.e.:\n",
    "\n",
    "- RFC (precision) = 1\n",
    "- RFC (accuracy) = 2\n",
    "- ...\n",
    "- ...\n",
    "\n",
    "\n",
    "***Note:*** You don't have to use a param_grid for this question, just run the RandomForest with default settings"
   ]
  },
  {
   "cell_type": "code",
   "execution_count": null,
   "metadata": {},
   "outputs": [],
   "source": []
  },
  {
   "cell_type": "code",
   "execution_count": null,
   "metadata": {},
   "outputs": [],
   "source": []
  },
  {
   "cell_type": "code",
   "execution_count": null,
   "metadata": {},
   "outputs": [],
   "source": []
  }
 ],
 "metadata": {
  "kernelspec": {
   "display_name": "Python 3",
   "language": "python",
   "name": "python3"
  },
  "language_info": {
   "codemirror_mode": {
    "name": "ipython",
    "version": 3
   },
   "file_extension": ".py",
   "mimetype": "text/x-python",
   "name": "python",
   "nbconvert_exporter": "python",
   "pygments_lexer": "ipython3",
   "version": "3.8.3"
  },
  "toc": {
   "base_numbering": 1,
   "nav_menu": {},
   "number_sections": false,
   "sideBar": true,
   "skip_h1_title": false,
   "title_cell": "Table of Contents",
   "title_sidebar": "Contents",
   "toc_cell": false,
   "toc_position": {},
   "toc_section_display": true,
   "toc_window_display": false
  },
  "varInspector": {
   "cols": {
    "lenName": 16,
    "lenType": 16,
    "lenVar": 40
   },
   "kernels_config": {
    "python": {
     "delete_cmd_postfix": "",
     "delete_cmd_prefix": "del ",
     "library": "var_list.py",
     "varRefreshCmd": "print(var_dic_list())"
    },
    "r": {
     "delete_cmd_postfix": ") ",
     "delete_cmd_prefix": "rm(",
     "library": "var_list.r",
     "varRefreshCmd": "cat(var_dic_list()) "
    }
   },
   "types_to_exclude": [
    "module",
    "function",
    "builtin_function_or_method",
    "instance",
    "_Feature"
   ],
   "window_display": false
  }
 },
 "nbformat": 4,
 "nbformat_minor": 4
}
